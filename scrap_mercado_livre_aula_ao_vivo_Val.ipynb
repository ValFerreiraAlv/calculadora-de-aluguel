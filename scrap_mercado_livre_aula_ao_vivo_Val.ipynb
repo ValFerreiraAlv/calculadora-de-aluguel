{
  "nbformat": 4,
  "nbformat_minor": 0,
  "metadata": {
    "anaconda-cloud": {},
    "kernelspec": {
      "display_name": "Python 3",
      "language": "python",
      "name": "python3"
    },
    "language_info": {
      "codemirror_mode": {
        "name": "ipython",
        "version": 3
      },
      "file_extension": ".py",
      "mimetype": "text/x-python",
      "name": "python",
      "nbconvert_exporter": "python",
      "pygments_lexer": "ipython3",
      "version": "3.7.7"
    },
    "colab": {
      "name": "scrap-mercado-livre-aula-ao-vivo-Val.ipynb",
      "provenance": [],
      "include_colab_link": true
    }
  },
  "cells": [
    {
      "cell_type": "markdown",
      "metadata": {
        "id": "view-in-github",
        "colab_type": "text"
      },
      "source": [
        "<a href=\"https://colab.research.google.com/github/ValFerreiraAlv/calculadora-de-aluguel/blob/main/scrap_mercado_livre_aula_ao_vivo_Val.ipynb\" target=\"_parent\"><img src=\"https://colab.research.google.com/assets/colab-badge.svg\" alt=\"Open In Colab\"/></a>"
      ]
    },
    {
      "cell_type": "code",
      "metadata": {
        "id": "60w9cCmnwVLN"
      },
      "source": [
        "# Imports\n",
        "import requests\n",
        "from bs4 import BeautifulSoup\n",
        "import pandas as pd\n",
        "from time import sleep"
      ],
      "execution_count": null,
      "outputs": []
    },
    {
      "cell_type": "code",
      "metadata": {
        "id": "XCWdX0ypwVLS"
      },
      "source": [
        "c=requests.get('https://imoveis.mercadolivre.com.br/aluguel/').content"
      ],
      "execution_count": null,
      "outputs": []
    },
    {
      "cell_type": "code",
      "metadata": {
        "id": "WUyT5AEewVLW"
      },
      "source": [
        "# Parameters\n",
        "zonas = ['norte', 'sul', 'leste', 'oeste']\n",
        "URL='https://imoveis.mercadolivre.com.br/casas/aluguel/sao-paulo/sao-paulo-zona-{}/{}'\n",
        "paginas = ['', '_Desde_49', '_Desde_97', '_Desde_145', '_Desde_193', \n",
        "           '_Desde_241', '_Desde_289']"
      ],
      "execution_count": null,
      "outputs": []
    },
    {
      "cell_type": "code",
      "metadata": {
        "id": "i0OTCvh6wVLb"
      },
      "source": [
        "# Functions\n",
        "def scrap(url):\n",
        "    c=requests.get(url).content\n",
        "    soup=BeautifulSoup(c)\n",
        "    aluguel_tags = soup.find_all('span', {'class':'price-tag-fraction'})\n",
        "    alugueis_lista = [p.text for p in aluguel_tags]\n",
        "    enderecos_tags = soup.find_all('span', {'class':'ui-search-item__group__element'})\n",
        "    enderecos_lista=[end.text for end in enderecos_tags]\n",
        "    enderecos_lista=enderecos_lista[1::2]\n",
        "    area_quartos_tags = soup.find_all('ul', {'class':'ui-search-card-attributes'})\n",
        "    area_quartos_lista=[aq.text for aq in area_quartos_tags]\n",
        "    df=convert_df(zona, area_quartos_lista, enderecos_lista, alugueis_lista)\n",
        "    return df\n",
        "\n",
        "def convert_df(zona, area_quartos_lista, enderecos_lista, alugueis_lista):\n",
        "    zonas_lista = [zona]*len(alugueis_lista)\n",
        "    data = {'zona': zonas_lista,\n",
        "            'area_quartos': area_quartos_lista,\n",
        "            'enderecos_lista':enderecos_lista,\n",
        "            'aluguel': alugueis_lista}\n",
        "    df = pd.DataFrame(data)\n",
        "    return df"
      ],
      "execution_count": null,
      "outputs": []
    },
    {
      "cell_type": "code",
      "metadata": {
        "id": "5r_A888awVLg"
      },
      "source": [
        "zona='sul'"
      ],
      "execution_count": null,
      "outputs": []
    },
    {
      "cell_type": "code",
      "metadata": {
        "id": "i2UNMm7DwVLk",
        "outputId": "f869fe99-053c-44b7-b0a5-f16359149970",
        "colab": {
          "base_uri": "https://localhost:8080/",
          "height": 35
        }
      },
      "source": [
        "'https://imoveis.mercadolivre.com.br/aluguel/sao-paulo/sao-paulo-zona-{}/'.format(zona)"
      ],
      "execution_count": null,
      "outputs": [
        {
          "output_type": "execute_result",
          "data": {
            "application/vnd.google.colaboratory.intrinsic+json": {
              "type": "string"
            },
            "text/plain": [
              "'https://imoveis.mercadolivre.com.br/aluguel/sao-paulo/sao-paulo-zona-sul/'"
            ]
          },
          "metadata": {
            "tags": []
          },
          "execution_count": 7
        }
      ]
    },
    {
      "cell_type": "code",
      "metadata": {
        "id": "zzrY3UvrwVLp"
      },
      "source": [
        ""
      ],
      "execution_count": null,
      "outputs": []
    },
    {
      "cell_type": "code",
      "metadata": {
        "id": "1qdtGqfHwVLu",
        "outputId": "b31b60dd-c8cd-48de-9f9a-c0a034abaefb",
        "colab": {
          "base_uri": "https://localhost:8080/"
        }
      },
      "source": [
        "lista_dfs = []\n",
        "for zona in zonas:\n",
        "    for pg in paginas:\n",
        "        url='https://imoveis.mercadolivre.com.br/aluguel/sao-paulo/sao-paulo-zona-{}/'.format(zona, pg)\n",
        "        print(url)\n",
        "        df=scrap(url)\n",
        "        lista_dfs.append(df)\n",
        "        sleep(1)"
      ],
      "execution_count": null,
      "outputs": [
        {
          "output_type": "stream",
          "text": [
            "https://imoveis.mercadolivre.com.br/aluguel/sao-paulo/sao-paulo-zona-norte/\n",
            "https://imoveis.mercadolivre.com.br/aluguel/sao-paulo/sao-paulo-zona-norte/\n",
            "https://imoveis.mercadolivre.com.br/aluguel/sao-paulo/sao-paulo-zona-norte/\n",
            "https://imoveis.mercadolivre.com.br/aluguel/sao-paulo/sao-paulo-zona-norte/\n",
            "https://imoveis.mercadolivre.com.br/aluguel/sao-paulo/sao-paulo-zona-norte/\n",
            "https://imoveis.mercadolivre.com.br/aluguel/sao-paulo/sao-paulo-zona-norte/\n",
            "https://imoveis.mercadolivre.com.br/aluguel/sao-paulo/sao-paulo-zona-norte/\n",
            "https://imoveis.mercadolivre.com.br/aluguel/sao-paulo/sao-paulo-zona-sul/\n",
            "https://imoveis.mercadolivre.com.br/aluguel/sao-paulo/sao-paulo-zona-sul/\n",
            "https://imoveis.mercadolivre.com.br/aluguel/sao-paulo/sao-paulo-zona-sul/\n",
            "https://imoveis.mercadolivre.com.br/aluguel/sao-paulo/sao-paulo-zona-sul/\n",
            "https://imoveis.mercadolivre.com.br/aluguel/sao-paulo/sao-paulo-zona-sul/\n",
            "https://imoveis.mercadolivre.com.br/aluguel/sao-paulo/sao-paulo-zona-sul/\n",
            "https://imoveis.mercadolivre.com.br/aluguel/sao-paulo/sao-paulo-zona-sul/\n",
            "https://imoveis.mercadolivre.com.br/aluguel/sao-paulo/sao-paulo-zona-leste/\n",
            "https://imoveis.mercadolivre.com.br/aluguel/sao-paulo/sao-paulo-zona-leste/\n",
            "https://imoveis.mercadolivre.com.br/aluguel/sao-paulo/sao-paulo-zona-leste/\n",
            "https://imoveis.mercadolivre.com.br/aluguel/sao-paulo/sao-paulo-zona-leste/\n",
            "https://imoveis.mercadolivre.com.br/aluguel/sao-paulo/sao-paulo-zona-leste/\n",
            "https://imoveis.mercadolivre.com.br/aluguel/sao-paulo/sao-paulo-zona-leste/\n",
            "https://imoveis.mercadolivre.com.br/aluguel/sao-paulo/sao-paulo-zona-leste/\n",
            "https://imoveis.mercadolivre.com.br/aluguel/sao-paulo/sao-paulo-zona-oeste/\n",
            "https://imoveis.mercadolivre.com.br/aluguel/sao-paulo/sao-paulo-zona-oeste/\n",
            "https://imoveis.mercadolivre.com.br/aluguel/sao-paulo/sao-paulo-zona-oeste/\n",
            "https://imoveis.mercadolivre.com.br/aluguel/sao-paulo/sao-paulo-zona-oeste/\n",
            "https://imoveis.mercadolivre.com.br/aluguel/sao-paulo/sao-paulo-zona-oeste/\n",
            "https://imoveis.mercadolivre.com.br/aluguel/sao-paulo/sao-paulo-zona-oeste/\n",
            "https://imoveis.mercadolivre.com.br/aluguel/sao-paulo/sao-paulo-zona-oeste/\n"
          ],
          "name": "stdout"
        }
      ]
    },
    {
      "cell_type": "code",
      "metadata": {
        "id": "3Pv9Nk_CwVL0",
        "outputId": "19946594-8d40-4a7d-9ff8-458c434739b1",
        "colab": {
          "base_uri": "https://localhost:8080/",
          "height": 419
        }
      },
      "source": [
        "pd.concat(lista_dfs)"
      ],
      "execution_count": null,
      "outputs": [
        {
          "output_type": "execute_result",
          "data": {
            "text/html": [
              "<div>\n",
              "<style scoped>\n",
              "    .dataframe tbody tr th:only-of-type {\n",
              "        vertical-align: middle;\n",
              "    }\n",
              "\n",
              "    .dataframe tbody tr th {\n",
              "        vertical-align: top;\n",
              "    }\n",
              "\n",
              "    .dataframe thead th {\n",
              "        text-align: right;\n",
              "    }\n",
              "</style>\n",
              "<table border=\"1\" class=\"dataframe\">\n",
              "  <thead>\n",
              "    <tr style=\"text-align: right;\">\n",
              "      <th></th>\n",
              "      <th>zona</th>\n",
              "      <th>area_quartos</th>\n",
              "      <th>enderecos_lista</th>\n",
              "      <th>aluguel</th>\n",
              "    </tr>\n",
              "  </thead>\n",
              "  <tbody>\n",
              "    <tr>\n",
              "      <th>0</th>\n",
              "      <td>norte</td>\n",
              "      <td>52 m² construídos2 quartos</td>\n",
              "      <td>Rua Jacaré Copaíba, Vila Marina, São Paulo Zon...</td>\n",
              "      <td>1.080</td>\n",
              "    </tr>\n",
              "    <tr>\n",
              "      <th>1</th>\n",
              "      <td>norte</td>\n",
              "      <td>50 m² construídos2 quartos</td>\n",
              "      <td>Rua Liestal,\\n                60, Lauzane Paul...</td>\n",
              "      <td>1.200</td>\n",
              "    </tr>\n",
              "    <tr>\n",
              "      <th>2</th>\n",
              "      <td>norte</td>\n",
              "      <td>72 m² construídos2 quartos</td>\n",
              "      <td>Rua Conselheiro Moreira De Barros, Lauzane Pau...</td>\n",
              "      <td>2.600</td>\n",
              "    </tr>\n",
              "    <tr>\n",
              "      <th>3</th>\n",
              "      <td>norte</td>\n",
              "      <td>54 m² construídos2 quartos</td>\n",
              "      <td>Avenida Carlos Alberto Moretti, Vila Cavaton, ...</td>\n",
              "      <td>1.050</td>\n",
              "    </tr>\n",
              "    <tr>\n",
              "      <th>4</th>\n",
              "      <td>norte</td>\n",
              "      <td>50 m² construídos2 quartos</td>\n",
              "      <td>Rua Comendador César Alfieri, Parque São Luís,...</td>\n",
              "      <td>1.260</td>\n",
              "    </tr>\n",
              "    <tr>\n",
              "      <th>...</th>\n",
              "      <td>...</td>\n",
              "      <td>...</td>\n",
              "      <td>...</td>\n",
              "      <td>...</td>\n",
              "    </tr>\n",
              "    <tr>\n",
              "      <th>43</th>\n",
              "      <td>oeste</td>\n",
              "      <td>88 m² construídos2 quartos</td>\n",
              "      <td>Rua Carlos Weber, Vila Leopoldina, São Paulo Z...</td>\n",
              "      <td>4.500</td>\n",
              "    </tr>\n",
              "    <tr>\n",
              "      <th>44</th>\n",
              "      <td>oeste</td>\n",
              "      <td>40 m² construídos2 quartos</td>\n",
              "      <td>Avenida Corifeu De Azevedo Marques, Butantã, S...</td>\n",
              "      <td>2.200</td>\n",
              "    </tr>\n",
              "    <tr>\n",
              "      <th>45</th>\n",
              "      <td>oeste</td>\n",
              "      <td>479 m² construídos4 quartos</td>\n",
              "      <td>Rua Jacunda, Jardim Panorama, São Paulo Zona O...</td>\n",
              "      <td>10.000</td>\n",
              "    </tr>\n",
              "    <tr>\n",
              "      <th>46</th>\n",
              "      <td>oeste</td>\n",
              "      <td>42 m² construídos1 quarto</td>\n",
              "      <td>Avenida Diógenes Ribeiro De Lima, Alto Da Lapa...</td>\n",
              "      <td>2.000</td>\n",
              "    </tr>\n",
              "    <tr>\n",
              "      <th>47</th>\n",
              "      <td>oeste</td>\n",
              "      <td>86 m² construídos2 quartos</td>\n",
              "      <td>Rua Pereira Leite, Sumarezinho, São Paulo Zona...</td>\n",
              "      <td>5.000</td>\n",
              "    </tr>\n",
              "  </tbody>\n",
              "</table>\n",
              "<p>1344 rows × 4 columns</p>\n",
              "</div>"
            ],
            "text/plain": [
              "     zona  ... aluguel\n",
              "0   norte  ...   1.080\n",
              "1   norte  ...   1.200\n",
              "2   norte  ...   2.600\n",
              "3   norte  ...   1.050\n",
              "4   norte  ...   1.260\n",
              "..    ...  ...     ...\n",
              "43  oeste  ...   4.500\n",
              "44  oeste  ...   2.200\n",
              "45  oeste  ...  10.000\n",
              "46  oeste  ...   2.000\n",
              "47  oeste  ...   5.000\n",
              "\n",
              "[1344 rows x 4 columns]"
            ]
          },
          "metadata": {
            "tags": []
          },
          "execution_count": 9
        }
      ]
    },
    {
      "cell_type": "code",
      "metadata": {
        "id": "lxGJhYFOyN2L",
        "outputId": "9cbe93c2-6583-4e14-e5dd-7ef50b2afb22",
        "colab": {
          "base_uri": "https://localhost:8080/",
          "height": 204
        }
      },
      "source": [
        "df.head()"
      ],
      "execution_count": null,
      "outputs": [
        {
          "output_type": "execute_result",
          "data": {
            "text/html": [
              "<div>\n",
              "<style scoped>\n",
              "    .dataframe tbody tr th:only-of-type {\n",
              "        vertical-align: middle;\n",
              "    }\n",
              "\n",
              "    .dataframe tbody tr th {\n",
              "        vertical-align: top;\n",
              "    }\n",
              "\n",
              "    .dataframe thead th {\n",
              "        text-align: right;\n",
              "    }\n",
              "</style>\n",
              "<table border=\"1\" class=\"dataframe\">\n",
              "  <thead>\n",
              "    <tr style=\"text-align: right;\">\n",
              "      <th></th>\n",
              "      <th>zona</th>\n",
              "      <th>area_quartos</th>\n",
              "      <th>enderecos_lista</th>\n",
              "      <th>aluguel</th>\n",
              "    </tr>\n",
              "  </thead>\n",
              "  <tbody>\n",
              "    <tr>\n",
              "      <th>0</th>\n",
              "      <td>oeste</td>\n",
              "      <td>1,470 m² construídos</td>\n",
              "      <td>Rua Mergenthaler, 1001, Vila Leopoldina, São P...</td>\n",
              "      <td>51.450</td>\n",
              "    </tr>\n",
              "    <tr>\n",
              "      <th>1</th>\n",
              "      <td>oeste</td>\n",
              "      <td>49 m² construídos2 quartos</td>\n",
              "      <td>Jardim Casablanca, São Paulo Zona Oeste, São P...</td>\n",
              "      <td>1.500</td>\n",
              "    </tr>\n",
              "    <tr>\n",
              "      <th>2</th>\n",
              "      <td>oeste</td>\n",
              "      <td>3,355 m² construídos</td>\n",
              "      <td>Vila Leopoldina, Vila Leopoldina, São Paulo Zo...</td>\n",
              "      <td>150.000</td>\n",
              "    </tr>\n",
              "    <tr>\n",
              "      <th>3</th>\n",
              "      <td>oeste</td>\n",
              "      <td>40 m² construídos2 quartos</td>\n",
              "      <td>Avenida João Caiaffa, Jardim Taboão, São Paulo...</td>\n",
              "      <td>1.500</td>\n",
              "    </tr>\n",
              "    <tr>\n",
              "      <th>4</th>\n",
              "      <td>oeste</td>\n",
              "      <td>44 m² construídos2 quartos</td>\n",
              "      <td>Rua Carubinha, Parque Esmeralda, São Paulo Zon...</td>\n",
              "      <td>1.400</td>\n",
              "    </tr>\n",
              "  </tbody>\n",
              "</table>\n",
              "</div>"
            ],
            "text/plain": [
              "    zona  ...  aluguel\n",
              "0  oeste  ...   51.450\n",
              "1  oeste  ...    1.500\n",
              "2  oeste  ...  150.000\n",
              "3  oeste  ...    1.500\n",
              "4  oeste  ...    1.400\n",
              "\n",
              "[5 rows x 4 columns]"
            ]
          },
          "metadata": {
            "tags": []
          },
          "execution_count": 10
        }
      ]
    },
    {
      "cell_type": "code",
      "metadata": {
        "id": "byEAjLPvySjU"
      },
      "source": [
        "df.to_csv('dados_aluguel_ml_sao_paulo.csv', index=False, encoding='latin-1')"
      ],
      "execution_count": null,
      "outputs": []
    },
    {
      "cell_type": "markdown",
      "metadata": {
        "id": "mX4iB4hi0O-5"
      },
      "source": [
        "**Primeiras Manipulações**"
      ]
    },
    {
      "cell_type": "code",
      "metadata": {
        "id": "PmdpaARl0VC_"
      },
      "source": [
        ""
      ],
      "execution_count": null,
      "outputs": []
    },
    {
      "cell_type": "code",
      "metadata": {
        "id": "LsXsWdzFwVNE"
      },
      "source": [
        "##Primeiras Manipulações##"
      ],
      "execution_count": null,
      "outputs": []
    }
  ]
}